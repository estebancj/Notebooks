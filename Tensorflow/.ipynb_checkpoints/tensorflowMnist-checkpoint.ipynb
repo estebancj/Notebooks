{
 "cells": [
  {
   "cell_type": "markdown",
   "metadata": {},
   "source": [
    "<img src=\"logos.jpg\" width=\"700\" />\n",
    "\n",
    "# Tensorflow example using Mnist dataset\n",
    "\n",
    "The purpose of this notebook is to ilustrate the use of __Tensorflow__ package in an example that includes the construction of a neural network and the use of a supervised learning approach based in the back-propagation theory. The proposed example is based on the classic Mnist dataset in which the main objective is to identify images of hand-written digits.\n",
    "\n",
    "Example main features:\n",
    "\n",
    "1. All the code was implemented in Python 3.5 https://www.python.org/ \n",
    "2. The  Python packages required to run the programs are the following:\n",
    "    * Jupyter notebook (Python interactive prompt) http://jupyter.org/index.html\n",
    "    * Tensorflow (Representation-classification) https://www.tensorflow.org/\n",
    "    * Numpy (classification) http://www.numpy.org/\n",
    "    * Matplotlib (visualization) https://matplotlib.org/\n",
    "3. The tensorflow version used correspond to a standalone application which means that does not support the use of parallel \n",
    "   computations on GPUs.\n",
    "\n",
    "    \n",
    "## Step 1: Load the MNIST dataset\n",
    "\n",
    "The Mnist dataset includes over 60,000 training images, plus 10,000 test images resized into 28x28 matices with grayscale values between 0 and 254.The following shows how to load this dataset:"
   ]
  },
  {
   "cell_type": "code",
   "execution_count": 49,
   "metadata": {},
   "outputs": [
    {
     "name": "stdout",
     "output_type": "stream",
     "text": [
      "Extracting MNIST_data/train-images-idx3-ubyte.gz\n",
      "Extracting MNIST_data/train-labels-idx1-ubyte.gz\n",
      "Extracting MNIST_data/t10k-images-idx3-ubyte.gz\n",
      "Extracting MNIST_data/t10k-labels-idx1-ubyte.gz\n"
     ]
    },
    {
     "data": {
      "image/png": "[encoded data removed]",
      "text/plain": [
       "<matplotlib.figure.Figure at 0x25808d1aac8>"
      ]
     },
     "metadata": {},
     "output_type": "display_data"
    },
    {
     "name": "stdout",
     "output_type": "stream",
     "text": [
      "Labels: 7 , 3 , 4 , 6 , 1 , 8 , 1 , 0 , 9 , 8\n"
     ]
    }
   ],
   "source": [
    "#Command used to see the plot inside the Jupyter notebook\n",
    "%matplotlib inline\n",
    "import matplotlib.pyplot as plt\n",
    "import numpy as np\n",
    "#Package used to get the Mnist dataset from tensorflow available examples\n",
    "from tensorflow.examples.tutorials.mnist import input_data\n",
    "#Load the Mnist dataset\n",
    "mnist = input_data.read_data_sets(\"MNIST_data/\", one_hot=True)\n",
    "labels=[]\n",
    "#Plot the first ten images of the Mnist dataset\n",
    "for number in range(10):\n",
    "    #Add a subplot to the matplotlib main canvas\n",
    "    plt.subplot(1,10,number+1)\n",
    "    #Get images and labels from the dataset\n",
    "    image=mnist.train.images[number]\n",
    "    label=mnist.train.labels[number]\n",
    "    #Transform the image to a numpy object to manipulate it\n",
    "    image=np.array(image, dtype='float')\n",
    "    #Reshape(rows,columns) the digits from a matrix of (784,) to a matrix of (28,28)\n",
    "    plt.imshow(image.reshape(28, 28), cmap='Greys_r')\n",
    "    #Eliminate axis labels from the plot\n",
    "    plt.axis('off')\n",
    "    labels.append(label)\n",
    "#Show the plot (ten images)    \n",
    "plt.show()\n",
    "#Transform the labels to a single number instead of a list\n",
    "labels=[str([i for i,y in enumerate(x) if y == 1][0]) for x in labels]\n",
    "print (\"Labels: \"+\" , \".join(labels))"
   ]
  },
  {
   "cell_type": "markdown",
   "metadata": {},
   "source": [
    "## Step 2: Preprocess the Mnist dataset\n",
    "1. Reshape the digits from each training image to a matrix of (28,28) (rows,columns)"
   ]
  },
  {
   "cell_type": "code",
   "execution_count": 72,
   "metadata": {},
   "outputs": [
    {
     "name": "stdout",
     "output_type": "stream",
     "text": [
      "Reshaped image examples\n",
      "[[[0. 0. 0. ... 0. 0. 0.]\n",
      "  [0. 0. 0. ... 0. 0. 0.]\n",
      "  [0. 0. 0. ... 0. 0. 0.]\n",
      "  ...\n",
      "  [0. 0. 0. ... 0. 0. 0.]\n",
      "  [0. 0. 0. ... 0. 0. 0.]\n",
      "  [0. 0. 0. ... 0. 0. 0.]]\n",
      "\n",
      " [[0. 0. 0. ... 0. 0. 0.]\n",
      "  [0. 0. 0. ... 0. 0. 0.]\n",
      "  [0. 0. 0. ... 0. 0. 0.]\n",
      "  ...\n",
      "  [0. 0. 0. ... 0. 0. 0.]\n",
      "  [0. 0. 0. ... 0. 0. 0.]\n",
      "  [0. 0. 0. ... 0. 0. 0.]]]\n",
      "Reshaped label examples\n",
      "[7. 3.]\n",
      "Images dimensions: (55000, 28, 28)\n",
      "Labels dimensions: (55000, 28, 28)\n"
     ]
    }
   ],
   "source": [
    "#Empty lists for storing reshaped images and labels\n",
    "trainingImages= []\n",
    "trainingLabels=[]\n",
    "#For each image\n",
    "for image in mnist.train.images:\n",
    "    #Transform all the values to a float data type\n",
    "    image=np.array(image, dtype='float')\n",
    "    #Transform an image to a matrix of 28x28\n",
    "    trainingImages.append(image.reshape(28, 28))\n",
    "#Similr to the images, reshape each label to a float data type    \n",
    "for label in mnist.train.labels:   \n",
    "    trainingLabels.append(str([i for i,y in enumerate(label) if y == 1][0]))\n",
    "#Transform the training list to a numpy array (for compatibility with tensorflow function)   \n",
    "trainingImages = np.array(trainingImages, np.float32)    \n",
    "trainingLabels = np.array(trainingLabels, np.float32) \n",
    "print (\"Reshaped image examples\")\n",
    "print(trainingImages[:2])\n",
    "print (\"Reshaped label examples\")\n",
    "print(trainingLabels[:2])\n",
    "print (\"Images dimensions: \" + str(trainingImages.shape))\n",
    "print (\"Labels dimensions: \" + str(trainingImages.shape))\n",
    "\n"
   ]
  },
  {
   "cell_type": "markdown",
   "metadata": {},
   "source": [
    "2\\. Reshape the digits from each test image to a matrix of (28,28) (rows,columns)"
   ]
  },
  {
   "cell_type": "code",
   "execution_count": 73,
   "metadata": {},
   "outputs": [],
   "source": [
    "testImages= []\n",
    "testLabels=[]\n",
    "for image in mnist.test.images:\n",
    "    image=np.array(image, dtype='float')\n",
    "    testImages.append(image.reshape(28, 28))   \n",
    "for label in mnist.test.labels:   \n",
    "    testLabels.append(str([i for i,y in enumerate(label) if y == 1][0]))  \n",
    "testImages = np.array(testImages, np.float32)    \n",
    "testLabels = np.array(testLabels, np.float32) "
   ]
  },
  {
   "cell_type": "markdown",
   "metadata": {},
   "source": [
    "## Step 3: Define tensorflow graph \n",
    "\n",
    "1. Back-propagtion intuition\n",
    "\n",
    "<img src=\"backPropagation.jpg\" alt=\"Drawing\" style=\"width: 600px;\"/>\n",
    "\n",
    "\n",
    "2\\.  multi-layer perceptron proposed for this example\n",
    "\n",
    "<img src=\"backPropagation2.png\" alt=\"Drawing\" style=\"width: 600px;\"/>\n"
   ]
  },
  {
   "cell_type": "markdown",
   "metadata": {},
   "source": [
    "3\\.  Create the proposed graph in the tensorflow environment considering that nodes in the graph represent mathematical operations, whereas edges represent data (tensors) that is communicated from one node to others. It is important to highlight that tensors are multidimensional arrays (representing vectors with a 1D tensors, matrices with a 2D tensors, etc.)."
   ]
  },
  {
   "cell_type": "code",
   "execution_count": 76,
   "metadata": {},
   "outputs": [],
   "source": [
    "import tensorflow as tf\n",
    "\n",
    "#Number of neurons for the input layer\n",
    "n_inputs = 28*28 #Features size\n",
    "#Number of neurons per hidden layer\n",
    "n_hidden1 = 300\n",
    "n_hidden2 = 300\n",
    "n_hidden3 = 100\n",
    "#Number of neurons for the output layer\n",
    "n_outputs = 10"
   ]
  },
  {
   "cell_type": "markdown",
   "metadata": {},
   "source": [
    "Inside the graph construction, a placeholder is simply a variable that we will assign data to at a later date. It allows us to create our operations and build our computation graph, without needing the data."
   ]
  },
  {
   "cell_type": "code",
   "execution_count": 77,
   "metadata": {},
   "outputs": [],
   "source": [
    "#https://www.tensorflow.org/api_docs/python/tf/placeholder\n",
    "#Training sample representation\n",
    "X = tf.placeholder(tf.float32, shape=(None, n_inputs), name=\"X\")  #2D tensor\n",
    "#Target sample representation\n",
    "y = tf.placeholder(tf.int32, shape=(None), name=\"y\") #1D tensor"
   ]
  },
  {
   "cell_type": "markdown",
   "metadata": {},
   "source": [
    "After define the placeholders, we can create a function that represents the behavior of a neural network layer. It is important to noticed that in the function there are define multiple tensorflow variables which helps to represent shared, persistent values across a graph execution. "
   ]
  },
  {
   "cell_type": "code",
   "execution_count": 78,
   "metadata": {},
   "outputs": [],
   "source": [
    "\"\"\"\n",
    "Function parameters:\n",
    "\n",
    "X = Vector features (28x28)\n",
    "n_neurons = Number of neurons for a layer\n",
    "name= Layer name\n",
    "activation = Activation functions used for each neuron\n",
    "\"\"\"\n",
    "def neuron_layer(X, n_neurons, name, activation=None):\n",
    "    #Tensorflow name scope to group together operations (nodes) in the graph\n",
    "    with tf.name_scope(name):\n",
    "        #Get the number of elements by checking the vectors feature shape\n",
    "        n_inputs = int(X.get_shape()[1])\n",
    "        #Create a random weight matrix using a Gaussian distribution\n",
    "        #The standard deviation helps the algorithm to converge faster in a training phase\n",
    "        stddev = 2 / np.sqrt(n_inputs)\n",
    "        init = tf.truncated_normal((n_inputs, n_neurons), stddev=stddev)\n",
    "        W = tf.Variable(init, name=\"weights\")\n",
    "        #Create a tensorflow variable for the bias\n",
    "        b = tf.Variable(tf.zeros([n_neurons]), name=\"bias\")\n",
    "        \n",
    "        \"\"\"\n",
    "        ATTENTION: Creation of the graph in tensorflow\n",
    "        Compute the weighted sum of the inputs plus the bias term for each neuron the layer\n",
    "        https://www.tensorflow.org/api_docs/python/tf/matmul\n",
    "        \"\"\"\n",
    "        Z = tf.matmul(X, W) + b\n",
    "        #Returns the activation function of each neuron in the layer\n",
    "        if activation is not None:\n",
    "            return activation(Z)\n",
    "        else:\n",
    "            return Z"
   ]
  },
  {
   "cell_type": "markdown",
   "metadata": {},
   "source": [
    "Finally, the different layers are created in the graph (neural network) using the previously created function."
   ]
  },
  {
   "cell_type": "code",
   "execution_count": 80,
   "metadata": {},
   "outputs": [],
   "source": [
    "#Tensorflow name scope to group together operations (nodes) in the graph\n",
    "with tf.name_scope(\"dnn\"):\n",
    "    # The first layer take the feature vector as input\n",
    "    hidden1 = neuron_layer(X, n_hidden1, name=\"hidden1\",activation=tf.nn.relu)\n",
    "    #The second layer take the output of the first layer as input\n",
    "    hidden2 = neuron_layer(hidden1, n_hidden2, name=\"hidden2\",activation=tf.nn.relu)\n",
    "    #The third layer take the output of the second layer as input\n",
    "    hidden3 = neuron_layer(hidden2, n_hidden3, name=\"hidden3\",activation=tf.nn.relu)\n",
    "    #The output of the third layer is taken as input for the final layer\n",
    "    ouput = neuron_layer(hidden3, n_outputs, name=\"outputs\")"
   ]
  },
  {
   "cell_type": "markdown",
   "metadata": {},
   "source": [
    "The activation function use in the neural network is presented below:\n",
    "\n",
    "<img src=\"ReLU.png\" alt=\"Drawing\" style=\"width: 500px;\"/>"
   ]
  },
  {
   "cell_type": "code",
   "execution_count": null,
   "metadata": {},
   "outputs": [],
   "source": []
  }
 ],
 "metadata": {
  "kernelspec": {
   "display_name": "Python 3",
   "language": "python",
   "name": "python3"
  },
  "language_info": {
   "codemirror_mode": {
    "name": "ipython",
    "version": 3
   },
   "file_extension": ".py",
   "mimetype": "text/x-python",
   "name": "python",
   "nbconvert_exporter": "python",
   "pygments_lexer": "ipython3",
   "version": "3.5.2"
  }
 },
 "nbformat": 4,
 "nbformat_minor": 2
}
